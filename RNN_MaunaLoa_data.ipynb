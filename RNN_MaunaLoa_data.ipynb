{
  "nbformat": 4,
  "nbformat_minor": 0,
  "metadata": {
    "colab": {
      "name": "RNN_MaunaLoa_data.ipynb",
      "provenance": [],
      "authorship_tag": "ABX9TyMEKGJYk1PNav+ytXTfP4+g",
      "include_colab_link": true
    },
    "kernelspec": {
      "name": "python3",
      "display_name": "Python 3"
    }
  },
  "cells": [
    {
      "cell_type": "markdown",
      "metadata": {
        "id": "view-in-github",
        "colab_type": "text"
      },
      "source": [
        "<a href=\"https://colab.research.google.com/github/slpitz/RNNandGHGs/blob/master/RNN_MaunaLoa_data.ipynb\" target=\"_parent\"><img src=\"https://colab.research.google.com/assets/colab-badge.svg\" alt=\"Open In Colab\"/></a>"
      ]
    },
    {
      "cell_type": "code",
      "metadata": {
        "id": "SGkCEwxRt_PH",
        "colab_type": "code",
        "colab": {}
      },
      "source": [
        ""
      ],
      "execution_count": null,
      "outputs": []
    },
    {
      "cell_type": "code",
      "metadata": {
        "id": "NXRkUOFUud4X",
        "colab_type": "code",
        "colab": {}
      },
      "source": [
        " \n",
        "# importing pandas module   \n",
        "import pandas as pd"
      ],
      "execution_count": 14,
      "outputs": []
    },
    {
      "cell_type": "markdown",
      "metadata": {
        "id": "ViE4r9dxGPWG",
        "colab_type": "text"
      },
      "source": [
        "Import monthly average CO2 from Mauna Loa"
      ]
    },
    {
      "cell_type": "code",
      "metadata": {
        "id": "7qaPc2nxKr5Q",
        "colab_type": "code",
        "colab": {
          "base_uri": "https://localhost:8080/",
          "height": 379
        },
        "outputId": "3341fe70-a678-4079-d654-25a510d57735"
      },
      "source": [
        "# importing pandas module   \n",
        "import pandas as pd   \n",
        "\n",
        "myfile = 'ftp://aftp.cmdl.noaa.gov/data/trace_gases/co2/flask/surface/co2_mlo_surface-flask_1_ccgg_month.txt'\n",
        "myfile2019 = 'ftp://aftp.cmdl.noaa.gov/data/trace_gases/co2/in-situ/surface/mlo/co2_mlo_surface-insitu_1_ccgg_MonthlyData.txt'\n",
        "      \n",
        "# making data frame   \n",
        "#df = pd.read_csv(myfile,sep='\\t',skiprows=(0,1,2),header=(70))\n",
        "#df = pd.read_csv(myfile,sep='\\r',header=(69), delim_whitespace=True)\n",
        "#df = pd.read_csv(myfile2019, header= (70), delim_whitespace=True)\n",
        "df = pd.read_csv(myfile2019, header= (149), delim_whitespace=True)\n",
        "    \n",
        "df.head(10)  "
      ],
      "execution_count": 23,
      "outputs": [
        {
          "output_type": "execute_result",
          "data": {
            "text/html": [
              "<div>\n",
              "<style scoped>\n",
              "    .dataframe tbody tr th:only-of-type {\n",
              "        vertical-align: middle;\n",
              "    }\n",
              "\n",
              "    .dataframe tbody tr th {\n",
              "        vertical-align: top;\n",
              "    }\n",
              "\n",
              "    .dataframe thead th {\n",
              "        text-align: right;\n",
              "    }\n",
              "</style>\n",
              "<table border=\"1\" class=\"dataframe\">\n",
              "  <thead>\n",
              "    <tr style=\"text-align: right;\">\n",
              "      <th></th>\n",
              "      <th>site_code</th>\n",
              "      <th>year</th>\n",
              "      <th>month</th>\n",
              "      <th>day</th>\n",
              "      <th>hour</th>\n",
              "      <th>minute</th>\n",
              "      <th>second</th>\n",
              "      <th>time_decimal</th>\n",
              "      <th>value</th>\n",
              "      <th>value_std_dev</th>\n",
              "      <th>nvalue</th>\n",
              "      <th>latitude</th>\n",
              "      <th>longitude</th>\n",
              "      <th>altitude</th>\n",
              "      <th>elevation</th>\n",
              "      <th>intake_height</th>\n",
              "      <th>qcflag</th>\n",
              "    </tr>\n",
              "  </thead>\n",
              "  <tbody>\n",
              "    <tr>\n",
              "      <th>0</th>\n",
              "      <td>MLO</td>\n",
              "      <td>1973</td>\n",
              "      <td>1</td>\n",
              "      <td>1</td>\n",
              "      <td>0</td>\n",
              "      <td>0</td>\n",
              "      <td>0</td>\n",
              "      <td>1973.000000</td>\n",
              "      <td>-999.99</td>\n",
              "      <td>-99.99</td>\n",
              "      <td>0</td>\n",
              "      <td>19.536</td>\n",
              "      <td>-155.576</td>\n",
              "      <td>3437.0</td>\n",
              "      <td>3397.0</td>\n",
              "      <td>40.0</td>\n",
              "      <td>*..</td>\n",
              "    </tr>\n",
              "    <tr>\n",
              "      <th>1</th>\n",
              "      <td>MLO</td>\n",
              "      <td>1973</td>\n",
              "      <td>2</td>\n",
              "      <td>1</td>\n",
              "      <td>0</td>\n",
              "      <td>0</td>\n",
              "      <td>0</td>\n",
              "      <td>1973.084932</td>\n",
              "      <td>-999.99</td>\n",
              "      <td>-99.99</td>\n",
              "      <td>0</td>\n",
              "      <td>19.536</td>\n",
              "      <td>-155.576</td>\n",
              "      <td>3437.0</td>\n",
              "      <td>3397.0</td>\n",
              "      <td>40.0</td>\n",
              "      <td>*..</td>\n",
              "    </tr>\n",
              "    <tr>\n",
              "      <th>2</th>\n",
              "      <td>MLO</td>\n",
              "      <td>1973</td>\n",
              "      <td>3</td>\n",
              "      <td>1</td>\n",
              "      <td>0</td>\n",
              "      <td>0</td>\n",
              "      <td>0</td>\n",
              "      <td>1973.161644</td>\n",
              "      <td>-999.99</td>\n",
              "      <td>-99.99</td>\n",
              "      <td>0</td>\n",
              "      <td>19.536</td>\n",
              "      <td>-155.576</td>\n",
              "      <td>3437.0</td>\n",
              "      <td>3397.0</td>\n",
              "      <td>40.0</td>\n",
              "      <td>*..</td>\n",
              "    </tr>\n",
              "    <tr>\n",
              "      <th>3</th>\n",
              "      <td>MLO</td>\n",
              "      <td>1973</td>\n",
              "      <td>4</td>\n",
              "      <td>1</td>\n",
              "      <td>0</td>\n",
              "      <td>0</td>\n",
              "      <td>0</td>\n",
              "      <td>1973.246575</td>\n",
              "      <td>-999.99</td>\n",
              "      <td>-99.99</td>\n",
              "      <td>0</td>\n",
              "      <td>19.536</td>\n",
              "      <td>-155.576</td>\n",
              "      <td>3437.0</td>\n",
              "      <td>3397.0</td>\n",
              "      <td>40.0</td>\n",
              "      <td>*..</td>\n",
              "    </tr>\n",
              "    <tr>\n",
              "      <th>4</th>\n",
              "      <td>MLO</td>\n",
              "      <td>1973</td>\n",
              "      <td>5</td>\n",
              "      <td>1</td>\n",
              "      <td>0</td>\n",
              "      <td>0</td>\n",
              "      <td>0</td>\n",
              "      <td>1973.328767</td>\n",
              "      <td>-999.99</td>\n",
              "      <td>-99.99</td>\n",
              "      <td>0</td>\n",
              "      <td>19.536</td>\n",
              "      <td>-155.576</td>\n",
              "      <td>3437.0</td>\n",
              "      <td>3397.0</td>\n",
              "      <td>40.0</td>\n",
              "      <td>*..</td>\n",
              "    </tr>\n",
              "    <tr>\n",
              "      <th>5</th>\n",
              "      <td>MLO</td>\n",
              "      <td>1973</td>\n",
              "      <td>6</td>\n",
              "      <td>1</td>\n",
              "      <td>0</td>\n",
              "      <td>0</td>\n",
              "      <td>0</td>\n",
              "      <td>1973.413699</td>\n",
              "      <td>-999.99</td>\n",
              "      <td>-99.99</td>\n",
              "      <td>0</td>\n",
              "      <td>19.536</td>\n",
              "      <td>-155.576</td>\n",
              "      <td>3437.0</td>\n",
              "      <td>3397.0</td>\n",
              "      <td>40.0</td>\n",
              "      <td>*..</td>\n",
              "    </tr>\n",
              "    <tr>\n",
              "      <th>6</th>\n",
              "      <td>MLO</td>\n",
              "      <td>1973</td>\n",
              "      <td>7</td>\n",
              "      <td>1</td>\n",
              "      <td>0</td>\n",
              "      <td>0</td>\n",
              "      <td>0</td>\n",
              "      <td>1973.495890</td>\n",
              "      <td>-999.99</td>\n",
              "      <td>-99.99</td>\n",
              "      <td>0</td>\n",
              "      <td>19.536</td>\n",
              "      <td>-155.576</td>\n",
              "      <td>3437.0</td>\n",
              "      <td>3397.0</td>\n",
              "      <td>40.0</td>\n",
              "      <td>*..</td>\n",
              "    </tr>\n",
              "    <tr>\n",
              "      <th>7</th>\n",
              "      <td>MLO</td>\n",
              "      <td>1973</td>\n",
              "      <td>8</td>\n",
              "      <td>1</td>\n",
              "      <td>0</td>\n",
              "      <td>0</td>\n",
              "      <td>0</td>\n",
              "      <td>1973.580822</td>\n",
              "      <td>-999.99</td>\n",
              "      <td>-99.99</td>\n",
              "      <td>0</td>\n",
              "      <td>19.536</td>\n",
              "      <td>-155.576</td>\n",
              "      <td>3437.0</td>\n",
              "      <td>3397.0</td>\n",
              "      <td>40.0</td>\n",
              "      <td>*..</td>\n",
              "    </tr>\n",
              "    <tr>\n",
              "      <th>8</th>\n",
              "      <td>MLO</td>\n",
              "      <td>1973</td>\n",
              "      <td>9</td>\n",
              "      <td>1</td>\n",
              "      <td>0</td>\n",
              "      <td>0</td>\n",
              "      <td>0</td>\n",
              "      <td>1973.665753</td>\n",
              "      <td>-999.99</td>\n",
              "      <td>-99.99</td>\n",
              "      <td>0</td>\n",
              "      <td>19.536</td>\n",
              "      <td>-155.576</td>\n",
              "      <td>3437.0</td>\n",
              "      <td>3397.0</td>\n",
              "      <td>40.0</td>\n",
              "      <td>*..</td>\n",
              "    </tr>\n",
              "    <tr>\n",
              "      <th>9</th>\n",
              "      <td>MLO</td>\n",
              "      <td>1973</td>\n",
              "      <td>10</td>\n",
              "      <td>1</td>\n",
              "      <td>0</td>\n",
              "      <td>0</td>\n",
              "      <td>0</td>\n",
              "      <td>1973.747945</td>\n",
              "      <td>-999.99</td>\n",
              "      <td>-99.99</td>\n",
              "      <td>0</td>\n",
              "      <td>19.536</td>\n",
              "      <td>-155.576</td>\n",
              "      <td>3437.0</td>\n",
              "      <td>3397.0</td>\n",
              "      <td>40.0</td>\n",
              "      <td>*..</td>\n",
              "    </tr>\n",
              "  </tbody>\n",
              "</table>\n",
              "</div>"
            ],
            "text/plain": [
              "  site_code  year  month  day  ...  altitude  elevation  intake_height  qcflag\n",
              "0       MLO  1973      1    1  ...    3437.0     3397.0           40.0     *..\n",
              "1       MLO  1973      2    1  ...    3437.0     3397.0           40.0     *..\n",
              "2       MLO  1973      3    1  ...    3437.0     3397.0           40.0     *..\n",
              "3       MLO  1973      4    1  ...    3437.0     3397.0           40.0     *..\n",
              "4       MLO  1973      5    1  ...    3437.0     3397.0           40.0     *..\n",
              "5       MLO  1973      6    1  ...    3437.0     3397.0           40.0     *..\n",
              "6       MLO  1973      7    1  ...    3437.0     3397.0           40.0     *..\n",
              "7       MLO  1973      8    1  ...    3437.0     3397.0           40.0     *..\n",
              "8       MLO  1973      9    1  ...    3437.0     3397.0           40.0     *..\n",
              "9       MLO  1973     10    1  ...    3437.0     3397.0           40.0     *..\n",
              "\n",
              "[10 rows x 17 columns]"
            ]
          },
          "metadata": {
            "tags": []
          },
          "execution_count": 23
        }
      ]
    },
    {
      "cell_type": "code",
      "metadata": {
        "id": "Yq4JW0_Lx5ks",
        "colab_type": "code",
        "colab": {
          "base_uri": "https://localhost:8080/",
          "height": 85
        },
        "outputId": "f65eed93-1783-4baf-c5f2-d7f3d28528a2"
      },
      "source": [
        "df.columns"
      ],
      "execution_count": 24,
      "outputs": [
        {
          "output_type": "execute_result",
          "data": {
            "text/plain": [
              "Index(['site_code', 'year', 'month', 'day', 'hour', 'minute', 'second',\n",
              "       'time_decimal', 'value', 'value_std_dev', 'nvalue', 'latitude',\n",
              "       'longitude', 'altitude', 'elevation', 'intake_height', 'qcflag'],\n",
              "      dtype='object')"
            ]
          },
          "metadata": {
            "tags": []
          },
          "execution_count": 24
        }
      ]
    },
    {
      "cell_type": "code",
      "metadata": {
        "id": "RebD1axfK3zg",
        "colab_type": "code",
        "colab": {
          "base_uri": "https://localhost:8080/",
          "height": 204
        },
        "outputId": "b232572b-61af-4bb3-fb96-7355688dff9e"
      },
      "source": [
        "#df.columns = ['stationID', 'year', 'month', 'concentration']\n",
        "df.head()"
      ],
      "execution_count": 19,
      "outputs": [
        {
          "output_type": "execute_result",
          "data": {
            "text/html": [
              "<div>\n",
              "<style scoped>\n",
              "    .dataframe tbody tr th:only-of-type {\n",
              "        vertical-align: middle;\n",
              "    }\n",
              "\n",
              "    .dataframe tbody tr th {\n",
              "        vertical-align: top;\n",
              "    }\n",
              "\n",
              "    .dataframe thead th {\n",
              "        text-align: right;\n",
              "    }\n",
              "</style>\n",
              "<table border=\"1\" class=\"dataframe\">\n",
              "  <thead>\n",
              "    <tr style=\"text-align: right;\">\n",
              "      <th></th>\n",
              "      <th>stationID</th>\n",
              "      <th>year</th>\n",
              "      <th>month</th>\n",
              "      <th>concentration</th>\n",
              "    </tr>\n",
              "  </thead>\n",
              "  <tbody>\n",
              "    <tr>\n",
              "      <th>0</th>\n",
              "      <td>MLO</td>\n",
              "      <td>1969</td>\n",
              "      <td>9</td>\n",
              "      <td>321.36</td>\n",
              "    </tr>\n",
              "    <tr>\n",
              "      <th>1</th>\n",
              "      <td>MLO</td>\n",
              "      <td>1969</td>\n",
              "      <td>10</td>\n",
              "      <td>320.74</td>\n",
              "    </tr>\n",
              "    <tr>\n",
              "      <th>2</th>\n",
              "      <td>MLO</td>\n",
              "      <td>1969</td>\n",
              "      <td>11</td>\n",
              "      <td>321.98</td>\n",
              "    </tr>\n",
              "    <tr>\n",
              "      <th>3</th>\n",
              "      <td>MLO</td>\n",
              "      <td>1969</td>\n",
              "      <td>12</td>\n",
              "      <td>323.78</td>\n",
              "    </tr>\n",
              "    <tr>\n",
              "      <th>4</th>\n",
              "      <td>MLO</td>\n",
              "      <td>1970</td>\n",
              "      <td>1</td>\n",
              "      <td>325.13</td>\n",
              "    </tr>\n",
              "  </tbody>\n",
              "</table>\n",
              "</div>"
            ],
            "text/plain": [
              "  stationID  year  month  concentration\n",
              "0       MLO  1969      9         321.36\n",
              "1       MLO  1969     10         320.74\n",
              "2       MLO  1969     11         321.98\n",
              "3       MLO  1969     12         323.78\n",
              "4       MLO  1970      1         325.13"
            ]
          },
          "metadata": {
            "tags": []
          },
          "execution_count": 19
        }
      ]
    },
    {
      "cell_type": "code",
      "metadata": {
        "id": "u5AhfVFoqmsJ",
        "colab_type": "code",
        "colab": {}
      },
      "source": [
        ""
      ],
      "execution_count": null,
      "outputs": []
    },
    {
      "cell_type": "code",
      "metadata": {
        "id": "PCkUAfGau69Z",
        "colab_type": "code",
        "colab": {}
      },
      "source": [
        "import tensorflow\n",
        "from tensorflow import keras"
      ],
      "execution_count": null,
      "outputs": []
    }
  ]
}